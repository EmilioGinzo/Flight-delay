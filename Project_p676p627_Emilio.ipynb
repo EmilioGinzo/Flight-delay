{
 "cells": [
  {
   "cell_type": "markdown",
   "id": "b5a7df56",
   "metadata": {},
   "source": [
    "# 1. Getting the data"
   ]
  },
  {
   "cell_type": "code",
   "execution_count": 2,
   "id": "8968da1d",
   "metadata": {},
   "outputs": [],
   "source": [
    "from scipy import stats\n",
    "from sklearn.linear_model import LinearRegression\n",
    "from sklearn.feature_selection import SelectKBest\n",
    "from sklearn.feature_selection import f_regression\n",
    "from sklearn.linear_model import LassoCV, Lasso\n",
    "from sklearn.model_selection import train_test_split\n",
    "from sklearn.preprocessing import StandardScaler  # to standardize the features\n",
    "from imblearn.over_sampling import SMOTE\n",
    "from sklearn.metrics import confusion_matrix\n",
    "from sklearn.metrics import roc_auc_score\n",
    "from sklearn.metrics import roc_curve\n",
    "from sklearn.linear_model import LogisticRegression\n",
    "from sklearn import metrics\n",
    "from sklearn.metrics import classification_report\n",
    "from sklearn.naive_bayes import GaussianNB\n",
    "from sklearn.neighbors import KNeighborsClassifier\n",
    "from sklearn.ensemble import RandomForestClassifier\n",
    "\n",
    "\n",
    "\n",
    "\n",
    "import matplotlib\n",
    "import matplotlib.pyplot as plt\n",
    "import numpy as np\n",
    "import pandas as pd\n",
    "import seaborn as sns\n",
    "import statsmodels.api as sm\n",
    "\n",
    "%matplotlib inline"
   ]
  },
  {
   "cell_type": "code",
   "execution_count": 3,
   "id": "ef330bb0",
   "metadata": {},
   "outputs": [],
   "source": [
    "mylist = []\n",
    "\n",
    "for chunk in  pd.read_csv('flights.csv', sep=',', chunksize=20000):\n",
    "    mylist.append(chunk)\n",
    "\n",
    "df_flights = pd.concat(mylist, axis= 0)\n",
    "del mylist"
   ]
  },
  {
   "cell_type": "code",
   "execution_count": 4,
   "id": "3fdcfe95",
   "metadata": {},
   "outputs": [],
   "source": [
    "df_airlines =pd.read_csv('airlines.csv')\n",
    "df_airports = pd.read_csv('airports.csv')"
   ]
  },
  {
   "cell_type": "code",
   "execution_count": 5,
   "id": "b75ba5c0",
   "metadata": {},
   "outputs": [
    {
     "data": {
      "text/html": [
       "<div>\n",
       "<style scoped>\n",
       "    .dataframe tbody tr th:only-of-type {\n",
       "        vertical-align: middle;\n",
       "    }\n",
       "\n",
       "    .dataframe tbody tr th {\n",
       "        vertical-align: top;\n",
       "    }\n",
       "\n",
       "    .dataframe thead th {\n",
       "        text-align: right;\n",
       "    }\n",
       "</style>\n",
       "<table border=\"1\" class=\"dataframe\">\n",
       "  <thead>\n",
       "    <tr style=\"text-align: right;\">\n",
       "      <th></th>\n",
       "      <th>IATA_CODE</th>\n",
       "      <th>AIRPORT</th>\n",
       "      <th>CITY</th>\n",
       "      <th>STATE</th>\n",
       "      <th>COUNTRY</th>\n",
       "      <th>LATITUDE</th>\n",
       "      <th>LONGITUDE</th>\n",
       "    </tr>\n",
       "  </thead>\n",
       "  <tbody>\n",
       "    <tr>\n",
       "      <th>0</th>\n",
       "      <td>ABE</td>\n",
       "      <td>Lehigh Valley International Airport</td>\n",
       "      <td>Allentown</td>\n",
       "      <td>PA</td>\n",
       "      <td>USA</td>\n",
       "      <td>40.65236</td>\n",
       "      <td>-75.44040</td>\n",
       "    </tr>\n",
       "    <tr>\n",
       "      <th>1</th>\n",
       "      <td>ABI</td>\n",
       "      <td>Abilene Regional Airport</td>\n",
       "      <td>Abilene</td>\n",
       "      <td>TX</td>\n",
       "      <td>USA</td>\n",
       "      <td>32.41132</td>\n",
       "      <td>-99.68190</td>\n",
       "    </tr>\n",
       "    <tr>\n",
       "      <th>2</th>\n",
       "      <td>ABQ</td>\n",
       "      <td>Albuquerque International Sunport</td>\n",
       "      <td>Albuquerque</td>\n",
       "      <td>NM</td>\n",
       "      <td>USA</td>\n",
       "      <td>35.04022</td>\n",
       "      <td>-106.60919</td>\n",
       "    </tr>\n",
       "    <tr>\n",
       "      <th>3</th>\n",
       "      <td>ABR</td>\n",
       "      <td>Aberdeen Regional Airport</td>\n",
       "      <td>Aberdeen</td>\n",
       "      <td>SD</td>\n",
       "      <td>USA</td>\n",
       "      <td>45.44906</td>\n",
       "      <td>-98.42183</td>\n",
       "    </tr>\n",
       "    <tr>\n",
       "      <th>4</th>\n",
       "      <td>ABY</td>\n",
       "      <td>Southwest Georgia Regional Airport</td>\n",
       "      <td>Albany</td>\n",
       "      <td>GA</td>\n",
       "      <td>USA</td>\n",
       "      <td>31.53552</td>\n",
       "      <td>-84.19447</td>\n",
       "    </tr>\n",
       "  </tbody>\n",
       "</table>\n",
       "</div>"
      ],
      "text/plain": [
       "  IATA_CODE                              AIRPORT         CITY STATE COUNTRY  \\\n",
       "0       ABE  Lehigh Valley International Airport    Allentown    PA     USA   \n",
       "1       ABI             Abilene Regional Airport      Abilene    TX     USA   \n",
       "2       ABQ    Albuquerque International Sunport  Albuquerque    NM     USA   \n",
       "3       ABR            Aberdeen Regional Airport     Aberdeen    SD     USA   \n",
       "4       ABY   Southwest Georgia Regional Airport       Albany    GA     USA   \n",
       "\n",
       "   LATITUDE  LONGITUDE  \n",
       "0  40.65236  -75.44040  \n",
       "1  32.41132  -99.68190  \n",
       "2  35.04022 -106.60919  \n",
       "3  45.44906  -98.42183  \n",
       "4  31.53552  -84.19447  "
      ]
     },
     "execution_count": 5,
     "metadata": {},
     "output_type": "execute_result"
    }
   ],
   "source": [
    "df_airports.head()"
   ]
  },
  {
   "cell_type": "code",
   "execution_count": 6,
   "id": "9518b735",
   "metadata": {},
   "outputs": [
    {
     "data": {
      "text/html": [
       "<div>\n",
       "<style scoped>\n",
       "    .dataframe tbody tr th:only-of-type {\n",
       "        vertical-align: middle;\n",
       "    }\n",
       "\n",
       "    .dataframe tbody tr th {\n",
       "        vertical-align: top;\n",
       "    }\n",
       "\n",
       "    .dataframe thead th {\n",
       "        text-align: right;\n",
       "    }\n",
       "</style>\n",
       "<table border=\"1\" class=\"dataframe\">\n",
       "  <thead>\n",
       "    <tr style=\"text-align: right;\">\n",
       "      <th></th>\n",
       "      <th>IATA_CODE</th>\n",
       "      <th>AIRLINE</th>\n",
       "    </tr>\n",
       "  </thead>\n",
       "  <tbody>\n",
       "    <tr>\n",
       "      <th>0</th>\n",
       "      <td>UA</td>\n",
       "      <td>United Air Lines Inc.</td>\n",
       "    </tr>\n",
       "    <tr>\n",
       "      <th>1</th>\n",
       "      <td>AA</td>\n",
       "      <td>American Airlines Inc.</td>\n",
       "    </tr>\n",
       "    <tr>\n",
       "      <th>2</th>\n",
       "      <td>US</td>\n",
       "      <td>US Airways Inc.</td>\n",
       "    </tr>\n",
       "    <tr>\n",
       "      <th>3</th>\n",
       "      <td>F9</td>\n",
       "      <td>Frontier Airlines Inc.</td>\n",
       "    </tr>\n",
       "    <tr>\n",
       "      <th>4</th>\n",
       "      <td>B6</td>\n",
       "      <td>JetBlue Airways</td>\n",
       "    </tr>\n",
       "  </tbody>\n",
       "</table>\n",
       "</div>"
      ],
      "text/plain": [
       "  IATA_CODE                 AIRLINE\n",
       "0        UA   United Air Lines Inc.\n",
       "1        AA  American Airlines Inc.\n",
       "2        US         US Airways Inc.\n",
       "3        F9  Frontier Airlines Inc.\n",
       "4        B6         JetBlue Airways"
      ]
     },
     "execution_count": 6,
     "metadata": {},
     "output_type": "execute_result"
    }
   ],
   "source": [
    "df_airlines.head()"
   ]
  },
  {
   "cell_type": "code",
   "execution_count": 25,
   "id": "c7b613b5",
   "metadata": {},
   "outputs": [
    {
     "data": {
      "text/html": [
       "<div>\n",
       "<style scoped>\n",
       "    .dataframe tbody tr th:only-of-type {\n",
       "        vertical-align: middle;\n",
       "    }\n",
       "\n",
       "    .dataframe tbody tr th {\n",
       "        vertical-align: top;\n",
       "    }\n",
       "\n",
       "    .dataframe thead th {\n",
       "        text-align: right;\n",
       "    }\n",
       "</style>\n",
       "<table border=\"1\" class=\"dataframe\">\n",
       "  <thead>\n",
       "    <tr style=\"text-align: right;\">\n",
       "      <th></th>\n",
       "      <th>YEAR</th>\n",
       "      <th>MONTH</th>\n",
       "      <th>DAY</th>\n",
       "      <th>DAY_OF_WEEK</th>\n",
       "      <th>AIRLINE</th>\n",
       "      <th>FLIGHT_NUMBER</th>\n",
       "      <th>TAIL_NUMBER</th>\n",
       "      <th>ORIGIN_AIRPORT</th>\n",
       "      <th>DESTINATION_AIRPORT</th>\n",
       "      <th>SCHEDULED_DEPARTURE</th>\n",
       "      <th>...</th>\n",
       "      <th>ARRIVAL_TIME</th>\n",
       "      <th>ARRIVAL_DELAY</th>\n",
       "      <th>DIVERTED</th>\n",
       "      <th>CANCELLED</th>\n",
       "      <th>CANCELLATION_REASON</th>\n",
       "      <th>AIR_SYSTEM_DELAY</th>\n",
       "      <th>SECURITY_DELAY</th>\n",
       "      <th>AIRLINE_DELAY</th>\n",
       "      <th>LATE_AIRCRAFT_DELAY</th>\n",
       "      <th>WEATHER_DELAY</th>\n",
       "    </tr>\n",
       "  </thead>\n",
       "  <tbody>\n",
       "    <tr>\n",
       "      <th>32</th>\n",
       "      <td>2015</td>\n",
       "      <td>1</td>\n",
       "      <td>1</td>\n",
       "      <td>4</td>\n",
       "      <td>AS</td>\n",
       "      <td>136</td>\n",
       "      <td>N431AS</td>\n",
       "      <td>ANC</td>\n",
       "      <td>SEA</td>\n",
       "      <td>135</td>\n",
       "      <td>...</td>\n",
       "      <td>0.0</td>\n",
       "      <td>0.0</td>\n",
       "      <td>0</td>\n",
       "      <td>1</td>\n",
       "      <td>A</td>\n",
       "      <td>0.0</td>\n",
       "      <td>0.0</td>\n",
       "      <td>0.0</td>\n",
       "      <td>0.0</td>\n",
       "      <td>0.0</td>\n",
       "    </tr>\n",
       "    <tr>\n",
       "      <th>42</th>\n",
       "      <td>2015</td>\n",
       "      <td>1</td>\n",
       "      <td>1</td>\n",
       "      <td>4</td>\n",
       "      <td>AA</td>\n",
       "      <td>2459</td>\n",
       "      <td>N3BDAA</td>\n",
       "      <td>PHX</td>\n",
       "      <td>DFW</td>\n",
       "      <td>200</td>\n",
       "      <td>...</td>\n",
       "      <td>0.0</td>\n",
       "      <td>0.0</td>\n",
       "      <td>0</td>\n",
       "      <td>1</td>\n",
       "      <td>B</td>\n",
       "      <td>0.0</td>\n",
       "      <td>0.0</td>\n",
       "      <td>0.0</td>\n",
       "      <td>0.0</td>\n",
       "      <td>0.0</td>\n",
       "    </tr>\n",
       "    <tr>\n",
       "      <th>68</th>\n",
       "      <td>2015</td>\n",
       "      <td>1</td>\n",
       "      <td>1</td>\n",
       "      <td>4</td>\n",
       "      <td>OO</td>\n",
       "      <td>5254</td>\n",
       "      <td>N746SK</td>\n",
       "      <td>MAF</td>\n",
       "      <td>IAH</td>\n",
       "      <td>510</td>\n",
       "      <td>...</td>\n",
       "      <td>0.0</td>\n",
       "      <td>0.0</td>\n",
       "      <td>0</td>\n",
       "      <td>1</td>\n",
       "      <td>B</td>\n",
       "      <td>0.0</td>\n",
       "      <td>0.0</td>\n",
       "      <td>0.0</td>\n",
       "      <td>0.0</td>\n",
       "      <td>0.0</td>\n",
       "    </tr>\n",
       "    <tr>\n",
       "      <th>82</th>\n",
       "      <td>2015</td>\n",
       "      <td>1</td>\n",
       "      <td>1</td>\n",
       "      <td>4</td>\n",
       "      <td>MQ</td>\n",
       "      <td>2859</td>\n",
       "      <td>N660MQ</td>\n",
       "      <td>SGF</td>\n",
       "      <td>DFW</td>\n",
       "      <td>525</td>\n",
       "      <td>...</td>\n",
       "      <td>0.0</td>\n",
       "      <td>0.0</td>\n",
       "      <td>0</td>\n",
       "      <td>1</td>\n",
       "      <td>B</td>\n",
       "      <td>0.0</td>\n",
       "      <td>0.0</td>\n",
       "      <td>0.0</td>\n",
       "      <td>0.0</td>\n",
       "      <td>0.0</td>\n",
       "    </tr>\n",
       "    <tr>\n",
       "      <th>90</th>\n",
       "      <td>2015</td>\n",
       "      <td>1</td>\n",
       "      <td>1</td>\n",
       "      <td>4</td>\n",
       "      <td>OO</td>\n",
       "      <td>5460</td>\n",
       "      <td>N583SW</td>\n",
       "      <td>RDD</td>\n",
       "      <td>SFO</td>\n",
       "      <td>530</td>\n",
       "      <td>...</td>\n",
       "      <td>0.0</td>\n",
       "      <td>0.0</td>\n",
       "      <td>0</td>\n",
       "      <td>1</td>\n",
       "      <td>A</td>\n",
       "      <td>0.0</td>\n",
       "      <td>0.0</td>\n",
       "      <td>0.0</td>\n",
       "      <td>0.0</td>\n",
       "      <td>0.0</td>\n",
       "    </tr>\n",
       "    <tr>\n",
       "      <th>...</th>\n",
       "      <td>...</td>\n",
       "      <td>...</td>\n",
       "      <td>...</td>\n",
       "      <td>...</td>\n",
       "      <td>...</td>\n",
       "      <td>...</td>\n",
       "      <td>...</td>\n",
       "      <td>...</td>\n",
       "      <td>...</td>\n",
       "      <td>...</td>\n",
       "      <td>...</td>\n",
       "      <td>...</td>\n",
       "      <td>...</td>\n",
       "      <td>...</td>\n",
       "      <td>...</td>\n",
       "      <td>...</td>\n",
       "      <td>...</td>\n",
       "      <td>...</td>\n",
       "      <td>...</td>\n",
       "      <td>...</td>\n",
       "      <td>...</td>\n",
       "    </tr>\n",
       "    <tr>\n",
       "      <th>5818090</th>\n",
       "      <td>2015</td>\n",
       "      <td>12</td>\n",
       "      <td>31</td>\n",
       "      <td>4</td>\n",
       "      <td>UA</td>\n",
       "      <td>1789</td>\n",
       "      <td>0</td>\n",
       "      <td>IAH</td>\n",
       "      <td>TPA</td>\n",
       "      <td>1955</td>\n",
       "      <td>...</td>\n",
       "      <td>0.0</td>\n",
       "      <td>0.0</td>\n",
       "      <td>0</td>\n",
       "      <td>1</td>\n",
       "      <td>A</td>\n",
       "      <td>0.0</td>\n",
       "      <td>0.0</td>\n",
       "      <td>0.0</td>\n",
       "      <td>0.0</td>\n",
       "      <td>0.0</td>\n",
       "    </tr>\n",
       "    <tr>\n",
       "      <th>5818157</th>\n",
       "      <td>2015</td>\n",
       "      <td>12</td>\n",
       "      <td>31</td>\n",
       "      <td>4</td>\n",
       "      <td>UA</td>\n",
       "      <td>222</td>\n",
       "      <td>0</td>\n",
       "      <td>SFO</td>\n",
       "      <td>LAX</td>\n",
       "      <td>2000</td>\n",
       "      <td>...</td>\n",
       "      <td>0.0</td>\n",
       "      <td>0.0</td>\n",
       "      <td>0</td>\n",
       "      <td>1</td>\n",
       "      <td>A</td>\n",
       "      <td>0.0</td>\n",
       "      <td>0.0</td>\n",
       "      <td>0.0</td>\n",
       "      <td>0.0</td>\n",
       "      <td>0.0</td>\n",
       "    </tr>\n",
       "    <tr>\n",
       "      <th>5818318</th>\n",
       "      <td>2015</td>\n",
       "      <td>12</td>\n",
       "      <td>31</td>\n",
       "      <td>4</td>\n",
       "      <td>AA</td>\n",
       "      <td>2245</td>\n",
       "      <td>N880AA</td>\n",
       "      <td>MIA</td>\n",
       "      <td>SAN</td>\n",
       "      <td>2019</td>\n",
       "      <td>...</td>\n",
       "      <td>0.0</td>\n",
       "      <td>0.0</td>\n",
       "      <td>0</td>\n",
       "      <td>1</td>\n",
       "      <td>A</td>\n",
       "      <td>0.0</td>\n",
       "      <td>0.0</td>\n",
       "      <td>0.0</td>\n",
       "      <td>0.0</td>\n",
       "      <td>0.0</td>\n",
       "    </tr>\n",
       "    <tr>\n",
       "      <th>5818777</th>\n",
       "      <td>2015</td>\n",
       "      <td>12</td>\n",
       "      <td>31</td>\n",
       "      <td>4</td>\n",
       "      <td>NK</td>\n",
       "      <td>416</td>\n",
       "      <td>N522NK</td>\n",
       "      <td>FLL</td>\n",
       "      <td>IAG</td>\n",
       "      <td>2155</td>\n",
       "      <td>...</td>\n",
       "      <td>0.0</td>\n",
       "      <td>0.0</td>\n",
       "      <td>0</td>\n",
       "      <td>1</td>\n",
       "      <td>A</td>\n",
       "      <td>0.0</td>\n",
       "      <td>0.0</td>\n",
       "      <td>0.0</td>\n",
       "      <td>0.0</td>\n",
       "      <td>0.0</td>\n",
       "    </tr>\n",
       "    <tr>\n",
       "      <th>5818843</th>\n",
       "      <td>2015</td>\n",
       "      <td>12</td>\n",
       "      <td>31</td>\n",
       "      <td>4</td>\n",
       "      <td>AA</td>\n",
       "      <td>1042</td>\n",
       "      <td>N870AA</td>\n",
       "      <td>SAN</td>\n",
       "      <td>MIA</td>\n",
       "      <td>2210</td>\n",
       "      <td>...</td>\n",
       "      <td>0.0</td>\n",
       "      <td>0.0</td>\n",
       "      <td>0</td>\n",
       "      <td>1</td>\n",
       "      <td>A</td>\n",
       "      <td>0.0</td>\n",
       "      <td>0.0</td>\n",
       "      <td>0.0</td>\n",
       "      <td>0.0</td>\n",
       "      <td>0.0</td>\n",
       "    </tr>\n",
       "  </tbody>\n",
       "</table>\n",
       "<p>89884 rows × 31 columns</p>\n",
       "</div>"
      ],
      "text/plain": [
       "         YEAR  MONTH  DAY  DAY_OF_WEEK AIRLINE  FLIGHT_NUMBER TAIL_NUMBER  \\\n",
       "32       2015      1    1            4      AS            136      N431AS   \n",
       "42       2015      1    1            4      AA           2459      N3BDAA   \n",
       "68       2015      1    1            4      OO           5254      N746SK   \n",
       "82       2015      1    1            4      MQ           2859      N660MQ   \n",
       "90       2015      1    1            4      OO           5460      N583SW   \n",
       "...       ...    ...  ...          ...     ...            ...         ...   \n",
       "5818090  2015     12   31            4      UA           1789           0   \n",
       "5818157  2015     12   31            4      UA            222           0   \n",
       "5818318  2015     12   31            4      AA           2245      N880AA   \n",
       "5818777  2015     12   31            4      NK            416      N522NK   \n",
       "5818843  2015     12   31            4      AA           1042      N870AA   \n",
       "\n",
       "        ORIGIN_AIRPORT DESTINATION_AIRPORT  SCHEDULED_DEPARTURE  ...  \\\n",
       "32                 ANC                 SEA                  135  ...   \n",
       "42                 PHX                 DFW                  200  ...   \n",
       "68                 MAF                 IAH                  510  ...   \n",
       "82                 SGF                 DFW                  525  ...   \n",
       "90                 RDD                 SFO                  530  ...   \n",
       "...                ...                 ...                  ...  ...   \n",
       "5818090            IAH                 TPA                 1955  ...   \n",
       "5818157            SFO                 LAX                 2000  ...   \n",
       "5818318            MIA                 SAN                 2019  ...   \n",
       "5818777            FLL                 IAG                 2155  ...   \n",
       "5818843            SAN                 MIA                 2210  ...   \n",
       "\n",
       "         ARRIVAL_TIME  ARRIVAL_DELAY  DIVERTED  CANCELLED  \\\n",
       "32                0.0            0.0         0          1   \n",
       "42                0.0            0.0         0          1   \n",
       "68                0.0            0.0         0          1   \n",
       "82                0.0            0.0         0          1   \n",
       "90                0.0            0.0         0          1   \n",
       "...               ...            ...       ...        ...   \n",
       "5818090           0.0            0.0         0          1   \n",
       "5818157           0.0            0.0         0          1   \n",
       "5818318           0.0            0.0         0          1   \n",
       "5818777           0.0            0.0         0          1   \n",
       "5818843           0.0            0.0         0          1   \n",
       "\n",
       "         CANCELLATION_REASON  AIR_SYSTEM_DELAY  SECURITY_DELAY  AIRLINE_DELAY  \\\n",
       "32                         A               0.0             0.0            0.0   \n",
       "42                         B               0.0             0.0            0.0   \n",
       "68                         B               0.0             0.0            0.0   \n",
       "82                         B               0.0             0.0            0.0   \n",
       "90                         A               0.0             0.0            0.0   \n",
       "...                      ...               ...             ...            ...   \n",
       "5818090                    A               0.0             0.0            0.0   \n",
       "5818157                    A               0.0             0.0            0.0   \n",
       "5818318                    A               0.0             0.0            0.0   \n",
       "5818777                    A               0.0             0.0            0.0   \n",
       "5818843                    A               0.0             0.0            0.0   \n",
       "\n",
       "         LATE_AIRCRAFT_DELAY  WEATHER_DELAY  \n",
       "32                       0.0            0.0  \n",
       "42                       0.0            0.0  \n",
       "68                       0.0            0.0  \n",
       "82                       0.0            0.0  \n",
       "90                       0.0            0.0  \n",
       "...                      ...            ...  \n",
       "5818090                  0.0            0.0  \n",
       "5818157                  0.0            0.0  \n",
       "5818318                  0.0            0.0  \n",
       "5818777                  0.0            0.0  \n",
       "5818843                  0.0            0.0  \n",
       "\n",
       "[89884 rows x 31 columns]"
      ]
     },
     "execution_count": 25,
     "metadata": {},
     "output_type": "execute_result"
    }
   ],
   "source": [
    "#print the cancelled flights\n",
    "#cancellation reason\n",
    "# (A) Air Carrier;\n",
    "# (B) Extreme Weather;\n",
    "# (C) National Aviation System (NAS); and\n",
    "# (D) Security.\n",
    "df_flights[df_flights['CANCELLED']==1]"
   ]
  },
  {
   "cell_type": "code",
   "execution_count": 8,
   "id": "7e60e79d",
   "metadata": {},
   "outputs": [
    {
     "data": {
      "text/plain": [
       "(5819079, 31)"
      ]
     },
     "execution_count": 8,
     "metadata": {},
     "output_type": "execute_result"
    }
   ],
   "source": [
    "df_flights.shape"
   ]
  },
  {
   "cell_type": "code",
   "execution_count": 24,
   "id": "72903a0e",
   "metadata": {},
   "outputs": [
    {
     "data": {
      "text/html": [
       "<div>\n",
       "<style scoped>\n",
       "    .dataframe tbody tr th:only-of-type {\n",
       "        vertical-align: middle;\n",
       "    }\n",
       "\n",
       "    .dataframe tbody tr th {\n",
       "        vertical-align: top;\n",
       "    }\n",
       "\n",
       "    .dataframe thead th {\n",
       "        text-align: right;\n",
       "    }\n",
       "</style>\n",
       "<table border=\"1\" class=\"dataframe\">\n",
       "  <thead>\n",
       "    <tr style=\"text-align: right;\">\n",
       "      <th></th>\n",
       "      <th>IATA_CODE</th>\n",
       "      <th>AIRPORT</th>\n",
       "      <th>CITY</th>\n",
       "      <th>STATE</th>\n",
       "      <th>COUNTRY</th>\n",
       "      <th>LATITUDE</th>\n",
       "      <th>LONGITUDE</th>\n",
       "    </tr>\n",
       "  </thead>\n",
       "  <tbody>\n",
       "    <tr>\n",
       "      <th>0</th>\n",
       "      <td>ABE</td>\n",
       "      <td>Lehigh Valley International Airport</td>\n",
       "      <td>Allentown</td>\n",
       "      <td>PA</td>\n",
       "      <td>USA</td>\n",
       "      <td>40.65236</td>\n",
       "      <td>-75.44040</td>\n",
       "    </tr>\n",
       "    <tr>\n",
       "      <th>1</th>\n",
       "      <td>ABI</td>\n",
       "      <td>Abilene Regional Airport</td>\n",
       "      <td>Abilene</td>\n",
       "      <td>TX</td>\n",
       "      <td>USA</td>\n",
       "      <td>32.41132</td>\n",
       "      <td>-99.68190</td>\n",
       "    </tr>\n",
       "    <tr>\n",
       "      <th>2</th>\n",
       "      <td>ABQ</td>\n",
       "      <td>Albuquerque International Sunport</td>\n",
       "      <td>Albuquerque</td>\n",
       "      <td>NM</td>\n",
       "      <td>USA</td>\n",
       "      <td>35.04022</td>\n",
       "      <td>-106.60919</td>\n",
       "    </tr>\n",
       "    <tr>\n",
       "      <th>3</th>\n",
       "      <td>ABR</td>\n",
       "      <td>Aberdeen Regional Airport</td>\n",
       "      <td>Aberdeen</td>\n",
       "      <td>SD</td>\n",
       "      <td>USA</td>\n",
       "      <td>45.44906</td>\n",
       "      <td>-98.42183</td>\n",
       "    </tr>\n",
       "    <tr>\n",
       "      <th>4</th>\n",
       "      <td>ABY</td>\n",
       "      <td>Southwest Georgia Regional Airport</td>\n",
       "      <td>Albany</td>\n",
       "      <td>GA</td>\n",
       "      <td>USA</td>\n",
       "      <td>31.53552</td>\n",
       "      <td>-84.19447</td>\n",
       "    </tr>\n",
       "    <tr>\n",
       "      <th>...</th>\n",
       "      <td>...</td>\n",
       "      <td>...</td>\n",
       "      <td>...</td>\n",
       "      <td>...</td>\n",
       "      <td>...</td>\n",
       "      <td>...</td>\n",
       "      <td>...</td>\n",
       "    </tr>\n",
       "    <tr>\n",
       "      <th>317</th>\n",
       "      <td>WRG</td>\n",
       "      <td>Wrangell Airport</td>\n",
       "      <td>Wrangell</td>\n",
       "      <td>AK</td>\n",
       "      <td>USA</td>\n",
       "      <td>56.48433</td>\n",
       "      <td>-132.36982</td>\n",
       "    </tr>\n",
       "    <tr>\n",
       "      <th>318</th>\n",
       "      <td>WYS</td>\n",
       "      <td>Westerly State Airport</td>\n",
       "      <td>West Yellowstone</td>\n",
       "      <td>MT</td>\n",
       "      <td>USA</td>\n",
       "      <td>44.68840</td>\n",
       "      <td>-111.11764</td>\n",
       "    </tr>\n",
       "    <tr>\n",
       "      <th>319</th>\n",
       "      <td>XNA</td>\n",
       "      <td>Northwest Arkansas Regional Airport</td>\n",
       "      <td>Fayetteville/Springdale/Rogers</td>\n",
       "      <td>AR</td>\n",
       "      <td>USA</td>\n",
       "      <td>36.28187</td>\n",
       "      <td>-94.30681</td>\n",
       "    </tr>\n",
       "    <tr>\n",
       "      <th>320</th>\n",
       "      <td>YAK</td>\n",
       "      <td>Yakutat Airport</td>\n",
       "      <td>Yakutat</td>\n",
       "      <td>AK</td>\n",
       "      <td>USA</td>\n",
       "      <td>59.50336</td>\n",
       "      <td>-139.66023</td>\n",
       "    </tr>\n",
       "    <tr>\n",
       "      <th>321</th>\n",
       "      <td>YUM</td>\n",
       "      <td>Yuma International Airport</td>\n",
       "      <td>Yuma</td>\n",
       "      <td>AZ</td>\n",
       "      <td>USA</td>\n",
       "      <td>32.65658</td>\n",
       "      <td>-114.60597</td>\n",
       "    </tr>\n",
       "  </tbody>\n",
       "</table>\n",
       "<p>322 rows × 7 columns</p>\n",
       "</div>"
      ],
      "text/plain": [
       "    IATA_CODE                              AIRPORT  \\\n",
       "0         ABE  Lehigh Valley International Airport   \n",
       "1         ABI             Abilene Regional Airport   \n",
       "2         ABQ    Albuquerque International Sunport   \n",
       "3         ABR            Aberdeen Regional Airport   \n",
       "4         ABY   Southwest Georgia Regional Airport   \n",
       "..        ...                                  ...   \n",
       "317       WRG                     Wrangell Airport   \n",
       "318       WYS               Westerly State Airport   \n",
       "319       XNA  Northwest Arkansas Regional Airport   \n",
       "320       YAK                      Yakutat Airport   \n",
       "321       YUM           Yuma International Airport   \n",
       "\n",
       "                               CITY STATE COUNTRY  LATITUDE  LONGITUDE  \n",
       "0                         Allentown    PA     USA  40.65236  -75.44040  \n",
       "1                           Abilene    TX     USA  32.41132  -99.68190  \n",
       "2                       Albuquerque    NM     USA  35.04022 -106.60919  \n",
       "3                          Aberdeen    SD     USA  45.44906  -98.42183  \n",
       "4                            Albany    GA     USA  31.53552  -84.19447  \n",
       "..                              ...   ...     ...       ...        ...  \n",
       "317                        Wrangell    AK     USA  56.48433 -132.36982  \n",
       "318                West Yellowstone    MT     USA  44.68840 -111.11764  \n",
       "319  Fayetteville/Springdale/Rogers    AR     USA  36.28187  -94.30681  \n",
       "320                         Yakutat    AK     USA  59.50336 -139.66023  \n",
       "321                            Yuma    AZ     USA  32.65658 -114.60597  \n",
       "\n",
       "[322 rows x 7 columns]"
      ]
     },
     "execution_count": 24,
     "metadata": {},
     "output_type": "execute_result"
    }
   ],
   "source": [
    "df_airports"
   ]
  },
  {
   "cell_type": "code",
   "execution_count": 9,
   "id": "b7119ef8",
   "metadata": {},
   "outputs": [
    {
     "name": "stdout",
     "output_type": "stream",
     "text": [
      "<class 'pandas.core.frame.DataFrame'>\n",
      "RangeIndex: 5819079 entries, 0 to 5819078\n",
      "Data columns (total 31 columns):\n",
      " #   Column               Dtype  \n",
      "---  ------               -----  \n",
      " 0   YEAR                 int64  \n",
      " 1   MONTH                int64  \n",
      " 2   DAY                  int64  \n",
      " 3   DAY_OF_WEEK          int64  \n",
      " 4   AIRLINE              object \n",
      " 5   FLIGHT_NUMBER        int64  \n",
      " 6   TAIL_NUMBER          object \n",
      " 7   ORIGIN_AIRPORT       object \n",
      " 8   DESTINATION_AIRPORT  object \n",
      " 9   SCHEDULED_DEPARTURE  int64  \n",
      " 10  DEPARTURE_TIME       float64\n",
      " 11  DEPARTURE_DELAY      float64\n",
      " 12  TAXI_OUT             float64\n",
      " 13  WHEELS_OFF           float64\n",
      " 14  SCHEDULED_TIME       float64\n",
      " 15  ELAPSED_TIME         float64\n",
      " 16  AIR_TIME             float64\n",
      " 17  DISTANCE             int64  \n",
      " 18  WHEELS_ON            float64\n",
      " 19  TAXI_IN              float64\n",
      " 20  SCHEDULED_ARRIVAL    int64  \n",
      " 21  ARRIVAL_TIME         float64\n",
      " 22  ARRIVAL_DELAY        float64\n",
      " 23  DIVERTED             int64  \n",
      " 24  CANCELLED            int64  \n",
      " 25  CANCELLATION_REASON  object \n",
      " 26  AIR_SYSTEM_DELAY     float64\n",
      " 27  SECURITY_DELAY       float64\n",
      " 28  AIRLINE_DELAY        float64\n",
      " 29  LATE_AIRCRAFT_DELAY  float64\n",
      " 30  WEATHER_DELAY        float64\n",
      "dtypes: float64(16), int64(10), object(5)\n",
      "memory usage: 1.3+ GB\n"
     ]
    }
   ],
   "source": [
    "df_flights.info()"
   ]
  },
  {
   "cell_type": "code",
   "execution_count": 14,
   "id": "9d9462f9",
   "metadata": {},
   "outputs": [
    {
     "data": {
      "text/plain": [
       "YEAR                   0\n",
       "MONTH                  0\n",
       "DAY                    0\n",
       "DAY_OF_WEEK            0\n",
       "AIRLINE                0\n",
       "FLIGHT_NUMBER          0\n",
       "TAIL_NUMBER            0\n",
       "ORIGIN_AIRPORT         0\n",
       "DESTINATION_AIRPORT    0\n",
       "SCHEDULED_DEPARTURE    0\n",
       "DEPARTURE_TIME         0\n",
       "DEPARTURE_DELAY        0\n",
       "TAXI_OUT               0\n",
       "WHEELS_OFF             0\n",
       "SCHEDULED_TIME         0\n",
       "ELAPSED_TIME           0\n",
       "AIR_TIME               0\n",
       "DISTANCE               0\n",
       "WHEELS_ON              0\n",
       "TAXI_IN                0\n",
       "SCHEDULED_ARRIVAL      0\n",
       "ARRIVAL_TIME           0\n",
       "ARRIVAL_DELAY          0\n",
       "DIVERTED               0\n",
       "CANCELLED              0\n",
       "CANCELLATION_REASON    0\n",
       "AIR_SYSTEM_DELAY       0\n",
       "SECURITY_DELAY         0\n",
       "AIRLINE_DELAY          0\n",
       "LATE_AIRCRAFT_DELAY    0\n",
       "WEATHER_DELAY          0\n",
       "dtype: int64"
      ]
     },
     "execution_count": 14,
     "metadata": {},
     "output_type": "execute_result"
    }
   ],
   "source": [
    "df_flights.isnull().sum()"
   ]
  },
  {
   "cell_type": "code",
   "execution_count": 13,
   "id": "1017e613",
   "metadata": {},
   "outputs": [],
   "source": [
    "df_flights['DEPARTURE_DELAY'].replace(np.nan, 0, inplace=True)\n",
    "df_flights['ARRIVAL_DELAY'].replace(np.nan, 0, inplace=True)\n",
    "df_flights['AIR_SYSTEM_DELAY'].replace(np.nan, 0, inplace=True)\n",
    "df_flights['SECURITY_DELAY'].replace(np.nan, 0, inplace=True)\n",
    "df_flights['AIRLINE_DELAY'].replace(np.nan, 0, inplace=True)\n",
    "df_flights['LATE_AIRCRAFT_DELAY'].replace(np.nan, 0, inplace=True)\n",
    "df_flights['WEATHER_DELAY'].replace(np.nan, 0, inplace=True)"
   ]
  },
  {
   "cell_type": "code",
   "execution_count": 36,
   "id": "594cbf8f",
   "metadata": {},
   "outputs": [],
   "source": [
    "#print the iata_code airport of the state FL\n",
    "iata_florida = df_airports[df_airports['STATE']=='FL']['IATA_CODE'].tolist()"
   ]
  },
  {
   "cell_type": "code",
   "execution_count": 37,
   "id": "113f793c",
   "metadata": {},
   "outputs": [
    {
     "ename": "ValueError",
     "evalue": "('Lengths must match to compare', (5819079,), (17,))",
     "output_type": "error",
     "traceback": [
      "\u001b[1;31m---------------------------------------------------------------------------\u001b[0m",
      "\u001b[1;31mValueError\u001b[0m                                Traceback (most recent call last)",
      "\u001b[1;32mg:\\My Drive\\Universidad\\WSU\\Data Science\\Tareas\\Project\\Project_p676p627_Emilio.ipynb Cell 14\u001b[0m in \u001b[0;36m<cell line: 1>\u001b[1;34m()\u001b[0m\n\u001b[1;32m----> <a href='vscode-notebook-cell:/g%3A/My%20Drive/Universidad/WSU/Data%20Science/Tareas/Project/Project_p676p627_Emilio.ipynb#Y122sZmlsZQ%3D%3D?line=0'>1</a>\u001b[0m df_flights[df_flights[\u001b[39m'\u001b[39;49m\u001b[39mORIGIN_AIRPORT\u001b[39;49m\u001b[39m'\u001b[39;49m] \u001b[39m==\u001b[39;49m iata_florida]\n",
      "File \u001b[1;32mc:\\Users\\coraj\\anaconda3\\lib\\site-packages\\pandas\\core\\ops\\common.py:70\u001b[0m, in \u001b[0;36m_unpack_zerodim_and_defer.<locals>.new_method\u001b[1;34m(self, other)\u001b[0m\n\u001b[0;32m     66\u001b[0m             \u001b[39mreturn\u001b[39;00m \u001b[39mNotImplemented\u001b[39m\n\u001b[0;32m     68\u001b[0m other \u001b[39m=\u001b[39m item_from_zerodim(other)\n\u001b[1;32m---> 70\u001b[0m \u001b[39mreturn\u001b[39;00m method(\u001b[39mself\u001b[39;49m, other)\n",
      "File \u001b[1;32mc:\\Users\\coraj\\anaconda3\\lib\\site-packages\\pandas\\core\\arraylike.py:40\u001b[0m, in \u001b[0;36mOpsMixin.__eq__\u001b[1;34m(self, other)\u001b[0m\n\u001b[0;32m     38\u001b[0m \u001b[39m@unpack_zerodim_and_defer\u001b[39m(\u001b[39m\"\u001b[39m\u001b[39m__eq__\u001b[39m\u001b[39m\"\u001b[39m)\n\u001b[0;32m     39\u001b[0m \u001b[39mdef\u001b[39;00m \u001b[39m__eq__\u001b[39m(\u001b[39mself\u001b[39m, other):\n\u001b[1;32m---> 40\u001b[0m     \u001b[39mreturn\u001b[39;00m \u001b[39mself\u001b[39;49m\u001b[39m.\u001b[39;49m_cmp_method(other, operator\u001b[39m.\u001b[39;49meq)\n",
      "File \u001b[1;32mc:\\Users\\coraj\\anaconda3\\lib\\site-packages\\pandas\\core\\series.py:5623\u001b[0m, in \u001b[0;36mSeries._cmp_method\u001b[1;34m(self, other, op)\u001b[0m\n\u001b[0;32m   5620\u001b[0m rvalues \u001b[39m=\u001b[39m extract_array(other, extract_numpy\u001b[39m=\u001b[39m\u001b[39mTrue\u001b[39;00m, extract_range\u001b[39m=\u001b[39m\u001b[39mTrue\u001b[39;00m)\n\u001b[0;32m   5622\u001b[0m \u001b[39mwith\u001b[39;00m np\u001b[39m.\u001b[39merrstate(\u001b[39mall\u001b[39m\u001b[39m=\u001b[39m\u001b[39m\"\u001b[39m\u001b[39mignore\u001b[39m\u001b[39m\"\u001b[39m):\n\u001b[1;32m-> 5623\u001b[0m     res_values \u001b[39m=\u001b[39m ops\u001b[39m.\u001b[39;49mcomparison_op(lvalues, rvalues, op)\n\u001b[0;32m   5625\u001b[0m \u001b[39mreturn\u001b[39;00m \u001b[39mself\u001b[39m\u001b[39m.\u001b[39m_construct_result(res_values, name\u001b[39m=\u001b[39mres_name)\n",
      "File \u001b[1;32mc:\\Users\\coraj\\anaconda3\\lib\\site-packages\\pandas\\core\\ops\\array_ops.py:260\u001b[0m, in \u001b[0;36mcomparison_op\u001b[1;34m(left, right, op)\u001b[0m\n\u001b[0;32m    255\u001b[0m \u001b[39mif\u001b[39;00m \u001b[39misinstance\u001b[39m(rvalues, (np\u001b[39m.\u001b[39mndarray, ABCExtensionArray)):\n\u001b[0;32m    256\u001b[0m     \u001b[39m# TODO: make this treatment consistent across ops and classes.\u001b[39;00m\n\u001b[0;32m    257\u001b[0m     \u001b[39m#  We are not catching all listlikes here (e.g. frozenset, tuple)\u001b[39;00m\n\u001b[0;32m    258\u001b[0m     \u001b[39m#  The ambiguous case is object-dtype.  See GH#27803\u001b[39;00m\n\u001b[0;32m    259\u001b[0m     \u001b[39mif\u001b[39;00m \u001b[39mlen\u001b[39m(lvalues) \u001b[39m!=\u001b[39m \u001b[39mlen\u001b[39m(rvalues):\n\u001b[1;32m--> 260\u001b[0m         \u001b[39mraise\u001b[39;00m \u001b[39mValueError\u001b[39;00m(\n\u001b[0;32m    261\u001b[0m             \u001b[39m\"\u001b[39m\u001b[39mLengths must match to compare\u001b[39m\u001b[39m\"\u001b[39m, lvalues\u001b[39m.\u001b[39mshape, rvalues\u001b[39m.\u001b[39mshape\n\u001b[0;32m    262\u001b[0m         )\n\u001b[0;32m    264\u001b[0m \u001b[39mif\u001b[39;00m should_extension_dispatch(lvalues, rvalues) \u001b[39mor\u001b[39;00m (\n\u001b[0;32m    265\u001b[0m     (\u001b[39misinstance\u001b[39m(rvalues, (Timedelta, BaseOffset, Timestamp)) \u001b[39mor\u001b[39;00m right \u001b[39mis\u001b[39;00m NaT)\n\u001b[0;32m    266\u001b[0m     \u001b[39mand\u001b[39;00m \u001b[39mnot\u001b[39;00m is_object_dtype(lvalues\u001b[39m.\u001b[39mdtype)\n\u001b[0;32m    267\u001b[0m ):\n\u001b[0;32m    268\u001b[0m     \u001b[39m# Call the method on lvalues\u001b[39;00m\n\u001b[0;32m    269\u001b[0m     res_values \u001b[39m=\u001b[39m op(lvalues, rvalues)\n",
      "\u001b[1;31mValueError\u001b[0m: ('Lengths must match to compare', (5819079,), (17,))"
     ]
    }
   ],
   "source": [
    "df_flights[df_flights['ORIGIN_AIRPORT'] == iata_florida]\n"
   ]
  },
  {
   "cell_type": "code",
   "execution_count": 15,
   "id": "701943d2",
   "metadata": {},
   "outputs": [
    {
     "data": {
      "text/plain": [
       "Index(['YEAR', 'MONTH', 'DAY', 'DAY_OF_WEEK', 'AIRLINE', 'FLIGHT_NUMBER',\n",
       "       'TAIL_NUMBER', 'ORIGIN_AIRPORT', 'DESTINATION_AIRPORT',\n",
       "       'SCHEDULED_DEPARTURE', 'DEPARTURE_TIME', 'DEPARTURE_DELAY', 'TAXI_OUT',\n",
       "       'WHEELS_OFF', 'SCHEDULED_TIME', 'ELAPSED_TIME', 'AIR_TIME', 'DISTANCE',\n",
       "       'WHEELS_ON', 'TAXI_IN', 'SCHEDULED_ARRIVAL', 'ARRIVAL_TIME',\n",
       "       'ARRIVAL_DELAY', 'DIVERTED', 'CANCELLED', 'CANCELLATION_REASON',\n",
       "       'AIR_SYSTEM_DELAY', 'SECURITY_DELAY', 'AIRLINE_DELAY',\n",
       "       'LATE_AIRCRAFT_DELAY', 'WEATHER_DELAY'],\n",
       "      dtype='object')"
      ]
     },
     "execution_count": 15,
     "metadata": {},
     "output_type": "execute_result"
    }
   ],
   "source": [
    "df_flights.columns"
   ]
  },
  {
   "cell_type": "markdown",
   "id": "7356dab7",
   "metadata": {},
   "source": [
    "## 2.1 **Replace ['gas', 'diesel'] string values to [0, 1]**"
   ]
  },
  {
   "cell_type": "code",
   "execution_count": 593,
   "id": "127b23b0",
   "metadata": {},
   "outputs": [
    {
     "data": {
      "text/html": [
       "<div>\n",
       "<style scoped>\n",
       "    .dataframe tbody tr th:only-of-type {\n",
       "        vertical-align: middle;\n",
       "    }\n",
       "\n",
       "    .dataframe tbody tr th {\n",
       "        vertical-align: top;\n",
       "    }\n",
       "\n",
       "    .dataframe thead th {\n",
       "        text-align: right;\n",
       "    }\n",
       "</style>\n",
       "<table border=\"1\" class=\"dataframe\">\n",
       "  <thead>\n",
       "    <tr style=\"text-align: right;\">\n",
       "      <th></th>\n",
       "      <th>fuel_type</th>\n",
       "      <th>wheel_base</th>\n",
       "      <th>length</th>\n",
       "      <th>width</th>\n",
       "      <th>heights</th>\n",
       "      <th>curb_weight</th>\n",
       "      <th>engine_size</th>\n",
       "      <th>bore</th>\n",
       "      <th>stroke</th>\n",
       "      <th>comprassion</th>\n",
       "      <th>horse_power</th>\n",
       "      <th>peak_rpm</th>\n",
       "      <th>city_mpg</th>\n",
       "      <th>highway_mpg</th>\n",
       "      <th>price</th>\n",
       "    </tr>\n",
       "  </thead>\n",
       "  <tbody>\n",
       "    <tr>\n",
       "      <th>0</th>\n",
       "      <td>0</td>\n",
       "      <td>88.6</td>\n",
       "      <td>168.8</td>\n",
       "      <td>64.1</td>\n",
       "      <td>48.8</td>\n",
       "      <td>2548</td>\n",
       "      <td>130</td>\n",
       "      <td>3.47</td>\n",
       "      <td>2.68</td>\n",
       "      <td>9.0</td>\n",
       "      <td>111.0</td>\n",
       "      <td>5000.0</td>\n",
       "      <td>21</td>\n",
       "      <td>27</td>\n",
       "      <td>13495.0</td>\n",
       "    </tr>\n",
       "    <tr>\n",
       "      <th>1</th>\n",
       "      <td>0</td>\n",
       "      <td>88.6</td>\n",
       "      <td>168.8</td>\n",
       "      <td>64.1</td>\n",
       "      <td>48.8</td>\n",
       "      <td>2548</td>\n",
       "      <td>130</td>\n",
       "      <td>3.47</td>\n",
       "      <td>2.68</td>\n",
       "      <td>9.0</td>\n",
       "      <td>111.0</td>\n",
       "      <td>5000.0</td>\n",
       "      <td>21</td>\n",
       "      <td>27</td>\n",
       "      <td>16500.0</td>\n",
       "    </tr>\n",
       "    <tr>\n",
       "      <th>2</th>\n",
       "      <td>0</td>\n",
       "      <td>94.5</td>\n",
       "      <td>171.2</td>\n",
       "      <td>65.5</td>\n",
       "      <td>52.4</td>\n",
       "      <td>2823</td>\n",
       "      <td>152</td>\n",
       "      <td>2.68</td>\n",
       "      <td>3.47</td>\n",
       "      <td>9.0</td>\n",
       "      <td>154.0</td>\n",
       "      <td>5000.0</td>\n",
       "      <td>19</td>\n",
       "      <td>26</td>\n",
       "      <td>16500.0</td>\n",
       "    </tr>\n",
       "    <tr>\n",
       "      <th>3</th>\n",
       "      <td>0</td>\n",
       "      <td>99.8</td>\n",
       "      <td>176.6</td>\n",
       "      <td>66.2</td>\n",
       "      <td>54.3</td>\n",
       "      <td>2337</td>\n",
       "      <td>109</td>\n",
       "      <td>3.19</td>\n",
       "      <td>3.40</td>\n",
       "      <td>10.0</td>\n",
       "      <td>102.0</td>\n",
       "      <td>5500.0</td>\n",
       "      <td>24</td>\n",
       "      <td>30</td>\n",
       "      <td>13950.0</td>\n",
       "    </tr>\n",
       "    <tr>\n",
       "      <th>4</th>\n",
       "      <td>0</td>\n",
       "      <td>99.4</td>\n",
       "      <td>176.6</td>\n",
       "      <td>66.4</td>\n",
       "      <td>54.3</td>\n",
       "      <td>2824</td>\n",
       "      <td>136</td>\n",
       "      <td>3.19</td>\n",
       "      <td>3.40</td>\n",
       "      <td>8.0</td>\n",
       "      <td>115.0</td>\n",
       "      <td>5500.0</td>\n",
       "      <td>18</td>\n",
       "      <td>22</td>\n",
       "      <td>17450.0</td>\n",
       "    </tr>\n",
       "    <tr>\n",
       "      <th>...</th>\n",
       "      <td>...</td>\n",
       "      <td>...</td>\n",
       "      <td>...</td>\n",
       "      <td>...</td>\n",
       "      <td>...</td>\n",
       "      <td>...</td>\n",
       "      <td>...</td>\n",
       "      <td>...</td>\n",
       "      <td>...</td>\n",
       "      <td>...</td>\n",
       "      <td>...</td>\n",
       "      <td>...</td>\n",
       "      <td>...</td>\n",
       "      <td>...</td>\n",
       "      <td>...</td>\n",
       "    </tr>\n",
       "    <tr>\n",
       "      <th>196</th>\n",
       "      <td>0</td>\n",
       "      <td>109.1</td>\n",
       "      <td>188.8</td>\n",
       "      <td>68.9</td>\n",
       "      <td>55.5</td>\n",
       "      <td>2952</td>\n",
       "      <td>141</td>\n",
       "      <td>3.78</td>\n",
       "      <td>3.15</td>\n",
       "      <td>9.5</td>\n",
       "      <td>114.0</td>\n",
       "      <td>5400.0</td>\n",
       "      <td>23</td>\n",
       "      <td>28</td>\n",
       "      <td>16845.0</td>\n",
       "    </tr>\n",
       "    <tr>\n",
       "      <th>197</th>\n",
       "      <td>0</td>\n",
       "      <td>109.1</td>\n",
       "      <td>188.8</td>\n",
       "      <td>68.8</td>\n",
       "      <td>55.5</td>\n",
       "      <td>3049</td>\n",
       "      <td>141</td>\n",
       "      <td>3.78</td>\n",
       "      <td>3.15</td>\n",
       "      <td>8.7</td>\n",
       "      <td>160.0</td>\n",
       "      <td>5300.0</td>\n",
       "      <td>19</td>\n",
       "      <td>25</td>\n",
       "      <td>19045.0</td>\n",
       "    </tr>\n",
       "    <tr>\n",
       "      <th>198</th>\n",
       "      <td>0</td>\n",
       "      <td>109.1</td>\n",
       "      <td>188.8</td>\n",
       "      <td>68.9</td>\n",
       "      <td>55.5</td>\n",
       "      <td>3012</td>\n",
       "      <td>173</td>\n",
       "      <td>3.58</td>\n",
       "      <td>2.87</td>\n",
       "      <td>8.8</td>\n",
       "      <td>134.0</td>\n",
       "      <td>5500.0</td>\n",
       "      <td>18</td>\n",
       "      <td>23</td>\n",
       "      <td>21485.0</td>\n",
       "    </tr>\n",
       "    <tr>\n",
       "      <th>199</th>\n",
       "      <td>1</td>\n",
       "      <td>109.1</td>\n",
       "      <td>188.8</td>\n",
       "      <td>68.9</td>\n",
       "      <td>55.5</td>\n",
       "      <td>3217</td>\n",
       "      <td>145</td>\n",
       "      <td>3.01</td>\n",
       "      <td>3.40</td>\n",
       "      <td>23.0</td>\n",
       "      <td>106.0</td>\n",
       "      <td>4800.0</td>\n",
       "      <td>26</td>\n",
       "      <td>27</td>\n",
       "      <td>22470.0</td>\n",
       "    </tr>\n",
       "    <tr>\n",
       "      <th>200</th>\n",
       "      <td>0</td>\n",
       "      <td>109.1</td>\n",
       "      <td>188.8</td>\n",
       "      <td>68.9</td>\n",
       "      <td>55.5</td>\n",
       "      <td>3062</td>\n",
       "      <td>141</td>\n",
       "      <td>3.78</td>\n",
       "      <td>3.15</td>\n",
       "      <td>9.5</td>\n",
       "      <td>114.0</td>\n",
       "      <td>5400.0</td>\n",
       "      <td>19</td>\n",
       "      <td>25</td>\n",
       "      <td>22625.0</td>\n",
       "    </tr>\n",
       "  </tbody>\n",
       "</table>\n",
       "<p>195 rows × 15 columns</p>\n",
       "</div>"
      ],
      "text/plain": [
       "     fuel_type  wheel_base  length  width  heights  curb_weight  engine_size  \\\n",
       "0            0        88.6   168.8   64.1     48.8         2548          130   \n",
       "1            0        88.6   168.8   64.1     48.8         2548          130   \n",
       "2            0        94.5   171.2   65.5     52.4         2823          152   \n",
       "3            0        99.8   176.6   66.2     54.3         2337          109   \n",
       "4            0        99.4   176.6   66.4     54.3         2824          136   \n",
       "..         ...         ...     ...    ...      ...          ...          ...   \n",
       "196          0       109.1   188.8   68.9     55.5         2952          141   \n",
       "197          0       109.1   188.8   68.8     55.5         3049          141   \n",
       "198          0       109.1   188.8   68.9     55.5         3012          173   \n",
       "199          1       109.1   188.8   68.9     55.5         3217          145   \n",
       "200          0       109.1   188.8   68.9     55.5         3062          141   \n",
       "\n",
       "     bore  stroke  comprassion  horse_power  peak_rpm  city_mpg  highway_mpg  \\\n",
       "0    3.47    2.68          9.0        111.0    5000.0        21           27   \n",
       "1    3.47    2.68          9.0        111.0    5000.0        21           27   \n",
       "2    2.68    3.47          9.0        154.0    5000.0        19           26   \n",
       "3    3.19    3.40         10.0        102.0    5500.0        24           30   \n",
       "4    3.19    3.40          8.0        115.0    5500.0        18           22   \n",
       "..    ...     ...          ...          ...       ...       ...          ...   \n",
       "196  3.78    3.15          9.5        114.0    5400.0        23           28   \n",
       "197  3.78    3.15          8.7        160.0    5300.0        19           25   \n",
       "198  3.58    2.87          8.8        134.0    5500.0        18           23   \n",
       "199  3.01    3.40         23.0        106.0    4800.0        26           27   \n",
       "200  3.78    3.15          9.5        114.0    5400.0        19           25   \n",
       "\n",
       "       price  \n",
       "0    13495.0  \n",
       "1    16500.0  \n",
       "2    16500.0  \n",
       "3    13950.0  \n",
       "4    17450.0  \n",
       "..       ...  \n",
       "196  16845.0  \n",
       "197  19045.0  \n",
       "198  21485.0  \n",
       "199  22470.0  \n",
       "200  22625.0  \n",
       "\n",
       "[195 rows x 15 columns]"
      ]
     },
     "execution_count": 593,
     "metadata": {},
     "output_type": "execute_result"
    }
   ],
   "source": [
    "df2['fuel_type'].replace(['gas', 'diesel'], [0, 1], inplace=True)\n",
    "df2"
   ]
  },
  {
   "cell_type": "markdown",
   "id": "c3851124",
   "metadata": {},
   "source": [
    "## 2.2 : Define your X and y: your dependent variable is fuel_type, the rest of the variables are your independent variables"
   ]
  },
  {
   "cell_type": "code",
   "execution_count": 594,
   "id": "f3735085",
   "metadata": {},
   "outputs": [],
   "source": [
    "x = df2.drop(['fuel_type'], axis=1)\n",
    "y = df2['fuel_type']"
   ]
  },
  {
   "cell_type": "code",
   "execution_count": null,
   "id": "cad38103",
   "metadata": {},
   "outputs": [],
   "source": []
  },
  {
   "cell_type": "markdown",
   "id": "cf86f4df",
   "metadata": {},
   "source": [
    "## 2.3 Split your data into training and testing set. Use test_size=0.3, random_state=746 !"
   ]
  },
  {
   "cell_type": "code",
   "execution_count": 595,
   "id": "2e6c1b4f",
   "metadata": {},
   "outputs": [],
   "source": [
    "X_train, X_test, y_train, y_test = train_test_split(x, y, test_size = 0.3, random_state = 746)"
   ]
  },
  {
   "cell_type": "markdown",
   "id": "4ad2fd64",
   "metadata": {},
   "source": [
    "# 3. Classification"
   ]
  },
  {
   "cell_type": "markdown",
   "id": "35ea935a",
   "metadata": {},
   "source": [
    "### 3.1 Use Logistic regression to classify your data. Print/report your confusion matrix, classification report and AUC"
   ]
  },
  {
   "cell_type": "code",
   "execution_count": 597,
   "id": "48ffe0f0",
   "metadata": {},
   "outputs": [
    {
     "name": "stdout",
     "output_type": "stream",
     "text": [
      "Accuracy of logistic regression classifier on test set: 1.00\n"
     ]
    },
    {
     "name": "stderr",
     "output_type": "stream",
     "text": [
      "c:\\Users\\coraj\\anaconda3\\lib\\site-packages\\sklearn\\linear_model\\_logistic.py:814: ConvergenceWarning: lbfgs failed to converge (status=1):\n",
      "STOP: TOTAL NO. of ITERATIONS REACHED LIMIT.\n",
      "\n",
      "Increase the number of iterations (max_iter) or scale the data as shown in:\n",
      "    https://scikit-learn.org/stable/modules/preprocessing.html\n",
      "Please also refer to the documentation for alternative solver options:\n",
      "    https://scikit-learn.org/stable/modules/linear_model.html#logistic-regression\n",
      "  n_iter_i = _check_optimize_result(\n"
     ]
    }
   ],
   "source": [
    "logreg = LogisticRegression()\n",
    "logreg.fit(X_train, y_train)\n",
    "y_pred = logreg.predict(X_test)\n",
    "y_pred_proba = logreg.predict_proba(X_test)[:,1]\n",
    "print('Accuracy of logistic regression classifier on test set: {:.2f}'.format(logreg.score(X_test, y_test)))"
   ]
  },
  {
   "cell_type": "markdown",
   "id": "ee7e2ff5",
   "metadata": {},
   "source": [
    "Confusion matrix"
   ]
  },
  {
   "cell_type": "code",
   "execution_count": 598,
   "id": "54cd8533",
   "metadata": {},
   "outputs": [
    {
     "name": "stdout",
     "output_type": "stream",
     "text": [
      "[[50  0]\n",
      " [ 0  9]]\n"
     ]
    }
   ],
   "source": [
    "conf_matrix = confusion_matrix(y_test, y_pred)\n",
    "print(conf_matrix)"
   ]
  },
  {
   "cell_type": "markdown",
   "id": "ad0a3cd6",
   "metadata": {},
   "source": [
    "AUC"
   ]
  },
  {
   "cell_type": "code",
   "execution_count": 599,
   "id": "4e8f8ac9",
   "metadata": {},
   "outputs": [
    {
     "data": {
      "image/png": "[encoded data removed]",
      "text/plain": [
       "<Figure size 432x288 with 1 Axes>"
      ]
     },
     "metadata": {
      "needs_background": "light"
     },
     "output_type": "display_data"
    }
   ],
   "source": [
    "fpr, tpr, _ = roc_curve(y_test,  y_pred_proba)\n",
    "auc = roc_auc_score(y_test, y_pred_proba)\n",
    "plt.plot(fpr,tpr,label=\"data 1, auc=\"+str(auc))\n",
    "plt.legend(loc=4)\n",
    "plt.show()"
   ]
  },
  {
   "cell_type": "markdown",
   "id": "1113e167",
   "metadata": {},
   "source": [
    "Classification report"
   ]
  },
  {
   "cell_type": "code",
   "execution_count": 600,
   "id": "2f0e3a32",
   "metadata": {},
   "outputs": [
    {
     "name": "stdout",
     "output_type": "stream",
     "text": [
      "              precision    recall  f1-score   support\n",
      "\n",
      "         gas       1.00      1.00      1.00        50\n",
      "      diesel       1.00      1.00      1.00         9\n",
      "\n",
      "    accuracy                           1.00        59\n",
      "   macro avg       1.00      1.00      1.00        59\n",
      "weighted avg       1.00      1.00      1.00        59\n",
      "\n"
     ]
    }
   ],
   "source": [
    "#report classification\n",
    "column_names = ['gas', 'diesel']\n",
    "print(classification_report(y_test, y_pred, target_names=column_names))"
   ]
  },
  {
   "cell_type": "markdown",
   "id": "2d3360f1",
   "metadata": {},
   "source": [
    "### 3.2 Use Naive Bayes to classify your data. Print/report your confusion matrix, classification report and AUC"
   ]
  },
  {
   "cell_type": "code",
   "execution_count": 601,
   "id": "293c471c",
   "metadata": {},
   "outputs": [],
   "source": [
    "X_train, X_test, y_train, y_test = train_test_split(x, y, test_size = 0.3, random_state = 746)"
   ]
  },
  {
   "cell_type": "code",
   "execution_count": 602,
   "id": "2dd4953c",
   "metadata": {},
   "outputs": [
    {
     "name": "stdout",
     "output_type": "stream",
     "text": [
      "Accuracy of Naive Bayes classifier on test set: 1.00\n"
     ]
    }
   ],
   "source": [
    "model = GaussianNB()\n",
    "clf = model.fit(X_train, y_train)\n",
    "y_pred = clf.predict(X_test)\n",
    "y_pred_proba = clf.predict_proba(X_test)[:,1]\n",
    "print('Accuracy of Naive Bayes classifier on test set: {:.2f}'.format(clf.score(X_test, y_test)))\n"
   ]
  },
  {
   "cell_type": "markdown",
   "id": "6a0f5499",
   "metadata": {},
   "source": [
    "Confusion matrix"
   ]
  },
  {
   "cell_type": "code",
   "execution_count": 603,
   "id": "0fbaa727",
   "metadata": {},
   "outputs": [
    {
     "name": "stdout",
     "output_type": "stream",
     "text": [
      "[[50  0]\n",
      " [ 0  9]]\n"
     ]
    }
   ],
   "source": [
    "conf_matrix = confusion_matrix(y_test, y_pred)\n",
    "print(conf_matrix)"
   ]
  },
  {
   "cell_type": "markdown",
   "id": "61a62d91",
   "metadata": {},
   "source": [
    "AUC"
   ]
  },
  {
   "cell_type": "code",
   "execution_count": 604,
   "id": "ca8ea25a",
   "metadata": {},
   "outputs": [
    {
     "data": {
      "image/png": "[encoded data removed]",
      "text/plain": [
       "<Figure size 432x288 with 1 Axes>"
      ]
     },
     "metadata": {
      "needs_background": "light"
     },
     "output_type": "display_data"
    }
   ],
   "source": [
    "fpr, tpr, _ = roc_curve(y_test,  y_pred_proba)\n",
    "auc = roc_auc_score(y_test, y_pred_proba)\n",
    "plt.plot(fpr,tpr,label=\"data 1, auc=\"+str(auc))\n",
    "plt.legend(loc=4)\n",
    "plt.show()"
   ]
  },
  {
   "cell_type": "markdown",
   "id": "24720b2f",
   "metadata": {},
   "source": [
    "Classification report"
   ]
  },
  {
   "cell_type": "code",
   "execution_count": 605,
   "id": "f768e335",
   "metadata": {},
   "outputs": [
    {
     "name": "stdout",
     "output_type": "stream",
     "text": [
      "              precision    recall  f1-score   support\n",
      "\n",
      "         gas       1.00      1.00      1.00        50\n",
      "      diesel       1.00      1.00      1.00         9\n",
      "\n",
      "    accuracy                           1.00        59\n",
      "   macro avg       1.00      1.00      1.00        59\n",
      "weighted avg       1.00      1.00      1.00        59\n",
      "\n"
     ]
    }
   ],
   "source": [
    "column_names = ['gas', 'diesel']\n",
    "print(classification_report(y_test, y_pred, target_names=column_names))"
   ]
  },
  {
   "cell_type": "markdown",
   "id": "c495f2d4",
   "metadata": {},
   "source": [
    "### 3.3 Use KNN to classify your data. First find the optimal k and than run you classification. Print/report your confusion matrix, classification report and AUC"
   ]
  },
  {
   "cell_type": "code",
   "execution_count": 606,
   "id": "d90419e5",
   "metadata": {},
   "outputs": [
    {
     "name": "stdout",
     "output_type": "stream",
     "text": [
      "Minimum error: 0.11864406779661017 at K = 3\n"
     ]
    },
    {
     "data": {
      "image/png": "[encoded data removed]",
      "text/plain": [
       "<Figure size 720x432 with 1 Axes>"
      ]
     },
     "metadata": {
      "needs_background": "light"
     },
     "output_type": "display_data"
    }
   ],
   "source": [
    "error_rate = []\n",
    "for i in range(1,20):\n",
    " knn = KNeighborsClassifier(n_neighbors=i)\n",
    " knn.fit(X_train,y_train)\n",
    " pred_i = knn.predict(X_test)\n",
    " error_rate.append(np.mean(pred_i != y_test))\n",
    "\n",
    "plt.figure(figsize=(10,6))\n",
    "plt.plot(range(1,20),error_rate,color='blue', linestyle='dashed', \n",
    "         marker='o',markerfacecolor='red', markersize=10)\n",
    "plt.title('Error Rate vs. K Value')\n",
    "plt.xlabel('K')\n",
    "plt.ylabel('Error Rate')\n",
    "print(\"Minimum error: {} at K = {}\".format(min(error_rate), error_rate.index(min(error_rate)) +1))"
   ]
  },
  {
   "cell_type": "markdown",
   "id": "cc0dce06",
   "metadata": {},
   "source": [
    "The bes K for this model in this case will be K = 3"
   ]
  },
  {
   "cell_type": "code",
   "execution_count": 607,
   "id": "05746d86",
   "metadata": {},
   "outputs": [
    {
     "name": "stdout",
     "output_type": "stream",
     "text": [
      "Accuracy of model at K = 3 is: 0.8813559322033898\n"
     ]
    }
   ],
   "source": [
    "#Train Model and Predict\n",
    "k = 3 \n",
    "neigh = KNeighborsClassifier(n_neighbors = k).fit(X_train,y_train)\n",
    "y_pred = neigh.predict(X_test)\n",
    "y_pred_proba = neigh.predict_proba(X_test)[::,1]\n",
    "print(\"Accuracy of model at K = {} is: {}\".format(k, metrics.accuracy_score(y_test, y_pred)))"
   ]
  },
  {
   "cell_type": "markdown",
   "id": "10d3afbd",
   "metadata": {},
   "source": [
    "Confusion matrix"
   ]
  },
  {
   "cell_type": "code",
   "execution_count": 608,
   "id": "baf6479f",
   "metadata": {},
   "outputs": [
    {
     "name": "stdout",
     "output_type": "stream",
     "text": [
      "[[49  1]\n",
      " [ 6  3]]\n"
     ]
    }
   ],
   "source": [
    "conf_matrix = confusion_matrix(y_test, y_pred)\n",
    "print(conf_matrix)"
   ]
  },
  {
   "cell_type": "markdown",
   "id": "d376c86e",
   "metadata": {},
   "source": [
    "Classification report"
   ]
  },
  {
   "cell_type": "code",
   "execution_count": 609,
   "id": "d0e1fbc3",
   "metadata": {},
   "outputs": [
    {
     "name": "stdout",
     "output_type": "stream",
     "text": [
      "              precision    recall  f1-score   support\n",
      "\n",
      "         gas       0.89      0.98      0.93        50\n",
      "      diesel       0.75      0.33      0.46         9\n",
      "\n",
      "    accuracy                           0.88        59\n",
      "   macro avg       0.82      0.66      0.70        59\n",
      "weighted avg       0.87      0.88      0.86        59\n",
      "\n"
     ]
    }
   ],
   "source": [
    "column_names = ['gas', 'diesel']\n",
    "print(classification_report(y_test, y_pred, target_names=column_names))"
   ]
  },
  {
   "cell_type": "markdown",
   "id": "0f84f1cd",
   "metadata": {},
   "source": [
    "AUC"
   ]
  },
  {
   "cell_type": "code",
   "execution_count": 610,
   "id": "493b7fde",
   "metadata": {},
   "outputs": [
    {
     "data": {
      "image/png": "[encoded data removed]",
      "text/plain": [
       "<Figure size 432x288 with 1 Axes>"
      ]
     },
     "metadata": {
      "needs_background": "light"
     },
     "output_type": "display_data"
    }
   ],
   "source": [
    "fpr, tpr, _ = roc_curve(y_test,  y_pred_proba)\n",
    "auc = roc_auc_score(y_test, y_pred_proba)\n",
    "plt.plot(fpr,tpr,label=\"data 1, auc=\"+str(auc))\n",
    "plt.legend(loc=4)\n",
    "plt.show()"
   ]
  },
  {
   "cell_type": "markdown",
   "id": "e3371eae",
   "metadata": {},
   "source": [
    "### 3.4 Choose one: SVM or Random Forest to classify your data. Print/report your confusion matrix, classification report and AUC"
   ]
  },
  {
   "cell_type": "code",
   "execution_count": 611,
   "id": "e7b82419",
   "metadata": {},
   "outputs": [
    {
     "data": {
      "text/plain": [
       "RandomForestClassifier()"
      ]
     },
     "execution_count": 611,
     "metadata": {},
     "output_type": "execute_result"
    }
   ],
   "source": [
    "# Instantiate model with 100 decision trees\n",
    "clf = RandomForestClassifier(n_estimators = 100)\n",
    "# Train the model on training data\n",
    "clf.fit(X_train, y_train)"
   ]
  },
  {
   "cell_type": "code",
   "execution_count": 612,
   "id": "66bd9efb",
   "metadata": {},
   "outputs": [],
   "source": [
    "y_pred = clf.predict(X_test)\n",
    "y_pred_proba = clf.predict_proba(X_test)[::,1]"
   ]
  },
  {
   "cell_type": "code",
   "execution_count": 613,
   "id": "cd21d7d6",
   "metadata": {},
   "outputs": [
    {
     "name": "stdout",
     "output_type": "stream",
     "text": [
      "Accuracy of model is: 1.0\n"
     ]
    }
   ],
   "source": [
    "print(\"Accuracy of model is: {}\".format(metrics.accuracy_score(y_test, y_pred)))"
   ]
  },
  {
   "cell_type": "markdown",
   "id": "c6879615",
   "metadata": {},
   "source": [
    "Confusion matrix"
   ]
  },
  {
   "cell_type": "code",
   "execution_count": 614,
   "id": "0ed960a8",
   "metadata": {},
   "outputs": [
    {
     "name": "stdout",
     "output_type": "stream",
     "text": [
      "[[50  0]\n",
      " [ 0  9]]\n"
     ]
    }
   ],
   "source": [
    "conf_matrix = confusion_matrix(y_test, y_pred)\n",
    "print(conf_matrix)"
   ]
  },
  {
   "cell_type": "markdown",
   "id": "a8657165",
   "metadata": {},
   "source": [
    "Classification report"
   ]
  },
  {
   "cell_type": "code",
   "execution_count": 615,
   "id": "39059adf",
   "metadata": {},
   "outputs": [
    {
     "name": "stdout",
     "output_type": "stream",
     "text": [
      "              precision    recall  f1-score   support\n",
      "\n",
      "         gas       1.00      1.00      1.00        50\n",
      "      diesel       1.00      1.00      1.00         9\n",
      "\n",
      "    accuracy                           1.00        59\n",
      "   macro avg       1.00      1.00      1.00        59\n",
      "weighted avg       1.00      1.00      1.00        59\n",
      "\n"
     ]
    }
   ],
   "source": [
    "column_names = ['gas', 'diesel']\n",
    "print(classification_report(y_test, y_pred, target_names=column_names))"
   ]
  },
  {
   "cell_type": "markdown",
   "id": "cb1b276b",
   "metadata": {},
   "source": [
    "AUC"
   ]
  },
  {
   "cell_type": "code",
   "execution_count": 616,
   "id": "e31cb421",
   "metadata": {},
   "outputs": [
    {
     "data": {
      "image/png": "[encoded data removed]",
      "text/plain": [
       "<Figure size 432x288 with 1 Axes>"
      ]
     },
     "metadata": {
      "needs_background": "light"
     },
     "output_type": "display_data"
    }
   ],
   "source": [
    "fpr, tpr, _ = roc_curve(y_test,  y_pred_proba)\n",
    "auc = roc_auc_score(y_test, y_pred_proba)\n",
    "plt.plot(fpr,tpr,label=\"data 1, auc=\"+str(auc))\n",
    "plt.legend(loc=4)\n",
    "plt.show()"
   ]
  },
  {
   "cell_type": "markdown",
   "id": "66c75879",
   "metadata": {},
   "source": [
    "### 3.5 Compare your results and comment on your findings. Which one(s) did the best job? What could have been the problem with the ones that did not work? etc."
   ]
  },
  {
   "cell_type": "markdown",
   "id": "2474dce5",
   "metadata": {},
   "source": [
    "- Logistic regression, Accuracy of logistic regression classifier on test set: 1.00\n",
    "- Naive Bayes, Accuracy of Naive Bayes classifier on test set: 1.00\n",
    "- KNN, Accuracy of model at K = 3 is: 0.8813559322033898\n",
    "- Random Forest, Accuracy of model is: 1.0\n",
    "\n",
    "- the logistic regression, Naive Bayes and Random Forest did the best job, with an accuracy of 100%\n",
    "- the Logistic regression, did not work because you need to normalize the data to use it in the model"
   ]
  },
  {
   "cell_type": "markdown",
   "id": "9e836830-b3dd-40fe-b3f1-367528757c8a",
   "metadata": {},
   "source": [
    "## 4. Bonus question\n",
    "**Try to fix the imbalanced nature of the data with a tool from the lecture. Run one of the classification methods (preferably one that \"failed\" before) and see if you get better results.**"
   ]
  },
  {
   "cell_type": "code",
   "execution_count": 617,
   "id": "fdf64977",
   "metadata": {},
   "outputs": [
    {
     "data": {
      "text/plain": [
       "0    175\n",
       "1     20\n",
       "Name: fuel_type, dtype: int64"
      ]
     },
     "execution_count": 617,
     "metadata": {},
     "output_type": "execute_result"
    }
   ],
   "source": [
    "df2.fuel_type.value_counts()"
   ]
  },
  {
   "cell_type": "code",
   "execution_count": 618,
   "id": "90eabf96",
   "metadata": {},
   "outputs": [
    {
     "data": {
      "image/png": "[encoded data removed]",
      "text/plain": [
       "<Figure size 432x288 with 1 Axes>"
      ]
     },
     "metadata": {
      "needs_background": "light"
     },
     "output_type": "display_data"
    }
   ],
   "source": [
    "sns.countplot(x='fuel_type', data=df2, palette='hls')\n",
    "plt.show()"
   ]
  },
  {
   "cell_type": "code",
   "execution_count": 619,
   "id": "14d2c8a9",
   "metadata": {},
   "outputs": [],
   "source": [
    "sm = SMOTE(random_state=42)\n",
    "X_res, y_res = sm.fit_resample(X_train, y_train)"
   ]
  },
  {
   "cell_type": "code",
   "execution_count": 624,
   "id": "dd96d193",
   "metadata": {},
   "outputs": [
    {
     "name": "stdout",
     "output_type": "stream",
     "text": [
      "Accuracy of logistic regression classifier on test set: 1.00\n"
     ]
    },
    {
     "name": "stderr",
     "output_type": "stream",
     "text": [
      "c:\\Users\\coraj\\anaconda3\\lib\\site-packages\\sklearn\\linear_model\\_logistic.py:814: ConvergenceWarning: lbfgs failed to converge (status=1):\n",
      "STOP: TOTAL NO. of ITERATIONS REACHED LIMIT.\n",
      "\n",
      "Increase the number of iterations (max_iter) or scale the data as shown in:\n",
      "    https://scikit-learn.org/stable/modules/preprocessing.html\n",
      "Please also refer to the documentation for alternative solver options:\n",
      "    https://scikit-learn.org/stable/modules/linear_model.html#logistic-regression\n",
      "  n_iter_i = _check_optimize_result(\n"
     ]
    }
   ],
   "source": [
    "logreg = LogisticRegression()\n",
    "logreg.fit(X_res, y_res)\n",
    "y_pred = logreg.predict(X_test)\n",
    "y_pred_proba = logreg.predict_proba(X_test)[:,1]\n",
    "print('Accuracy of logistic regression classifier on test set: {:.2f}'.format(logreg.score(X_test, y_test)))"
   ]
  },
  {
   "cell_type": "markdown",
   "id": "be1888b5",
   "metadata": {},
   "source": [
    "in this case we create more datas for X_train and y_train. But we get the exact same result, Accuracy of logistic regression classifier on test set: 1.00, and the warning is still there"
   ]
  }
 ],
 "metadata": {
  "kernelspec": {
   "display_name": "Python 3.9.12 ('base')",
   "language": "python",
   "name": "python3"
  },
  "language_info": {
   "codemirror_mode": {
    "name": "ipython",
    "version": 3
   },
   "file_extension": ".py",
   "mimetype": "text/x-python",
   "name": "python",
   "nbconvert_exporter": "python",
   "pygments_lexer": "ipython3",
   "version": "3.9.12"
  },
  "vscode": {
   "interpreter": {
    "hash": "46e816657c2fc01c4d13ae47e118fa7371a366200e9fe2d43ae5e3138a954805"
   }
  }
 },
 "nbformat": 4,
 "nbformat_minor": 5
}
